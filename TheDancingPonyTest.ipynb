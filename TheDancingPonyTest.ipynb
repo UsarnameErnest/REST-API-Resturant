{
 "cells": [
  {
   "cell_type": "code",
   "execution_count": null,
   "metadata": {},
   "outputs": [],
   "source": [
    "import requests\n"
   ]
  },
  {
   "cell_type": "code",
   "execution_count": null,
   "metadata": {},
   "outputs": [],
   "source": [
    "# get access token for a customer\n",
    "res = requests.post('http://127.0.0.1:5000/login/', json={\n",
    "    'email': 'frogo@example.com',\n",
    "    'password': 'my password',\n",
    "})\n",
    "customer_token = res.json().get('token') \n",
    "\n",
    "# get access token for an admin\n",
    "res = requests.post('http://127.0.0.1:5000/login/', json={\n",
    "    'email': 'admin@example.com',\n",
    "    'password': 'admin password',\n",
    "})\n",
    "admin_token = res.json().get('token') "
   ]
  },
  {
   "cell_type": "code",
   "execution_count": null,
   "metadata": {},
   "outputs": [],
   "source": [
    "# get dishes\n",
    "dishes = requests.get('http://127.0.0.1:5000/admin_dishes/', headers={'Authorization': f\"Bearer {admin_token}\"})\n",
    "dishes.json()\n"
   ]
  },
  {
   "cell_type": "code",
   "execution_count": null,
   "metadata": {},
   "outputs": [],
   "source": [
    "# register a new user\n",
    "res = requests.post(\n",
    "    'http://127.0.0.1:5000/register/',\n",
    "    json={\n",
    "        'name': 'elijah', 'email': 'e@e.e',\n",
    "        'password': 'ee'\n",
    "    }\n",
    ")\n",
    "res.json()"
   ]
  },
  {
   "cell_type": "code",
   "execution_count": null,
   "metadata": {},
   "outputs": [],
   "source": [
    "# get user details\n",
    "res = requests.get(\n",
    "    'http://127.0.0.1:5000/user/',\n",
    "    headers={'Authorization': f\"Bearer {customer_token}\"},\n",
    ")\n",
    "res.json()"
   ]
  },
  {
   "cell_type": "code",
   "execution_count": null,
   "metadata": {},
   "outputs": [],
   "source": [
    "# get all dishes\n",
    "res = requests.get(\n",
    "    'http://127.0.0.1:5000/customer_dishes/',\n",
    "    headers={'Authorization': f\"Bearer {customer_token}\"},\n",
    ")\n",
    "res.json()"
   ]
  },
  {
   "cell_type": "code",
   "execution_count": null,
   "metadata": {},
   "outputs": [],
   "source": [
    "# get a specific dish\n",
    "res = requests.get(\n",
    "    'http://127.0.0.1:5000/customer_dishes/1',\n",
    "    headers={'Authorization': f\"Bearer {customer_token}\"},\n",
    ")\n",
    "res.json()"
   ]
  },
  {
   "cell_type": "code",
   "execution_count": null,
   "metadata": {},
   "outputs": [],
   "source": [
    "# rate a dish\n",
    "res = requests.post(\n",
    "    'http://127.0.0.1:5000/customer_dishes/1',\n",
    "    headers={'Authorization': f\"Bearer {customer_token}\"},\n",
    "    json={'rating': 5}\n",
    ")\n",
    "res.json()"
   ]
  },
  {
   "cell_type": "code",
   "execution_count": null,
   "metadata": {},
   "outputs": [],
   "source": [
    "# delete a dish\n",
    "res = requests.delete(\n",
    "    'http://127.0.0.1:5000/admin_dishes/1',\n",
    "    headers={'Authorization': f\"Bearer {admin_token}\"},\n",
    "    json={'dish_id': 1}\n",
    ")\n",
    "print(res.json())\n",
    "\n",
    "# get updated dishes without the deleted ones\n",
    "res = requests.get(\n",
    "    'http://127.0.0.1:5000/customer_dishes/',\n",
    "    headers={'Authorization': f\"Bearer {admin_token}\"},\n",
    ")\n",
    "res.json()"
   ]
  }
 ],
 "metadata": {
  "kernelspec": {
   "display_name": "Python 3",
   "language": "python",
   "name": "python3"
  },
  "language_info": {
   "name": "python",
   "version": "3.11.8"
  }
 },
 "nbformat": 4,
 "nbformat_minor": 2
}
